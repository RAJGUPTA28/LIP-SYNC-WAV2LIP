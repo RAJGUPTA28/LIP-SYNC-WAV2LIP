{
  "cells": [
    {
      "cell_type": "markdown",
      "source": [
        "# LIP SYNC ASSIGNMENT LISTED\n",
        "\n",
        "- ASSIGNMENT 1\n",
        "\n",
        "   - TASK\n",
        "\n",
        "       The objective of this assignment is to demonstrate your skills in creating an AI model that is proficient in lip-syncing i.e. synchronizing an audio file with a video file. Your task is to ensure the model is accurately\n",
        "       matching the lip movements of the characters in the given video file with the corresponding audio file.\n",
        "\n",
        "\n",
        "\n",
        "\n"
      ],
      "metadata": {
        "id": "snMHtpFIEjP6"
      }
    },
    {
      "cell_type": "markdown",
      "source": [
        "# TO USE - https://github.com/Rudrabha/Wav2Lip.git"
      ],
      "metadata": {
        "id": "qFRgnFtbFffG"
      }
    },
    {
      "cell_type": "markdown",
      "source": [
        "- IDEAL VIDEO RESOLUTION - 720P\n",
        "- IDEAL VIDEO DURATION LESS THAN - 60s"
      ],
      "metadata": {
        "id": "lGlWGdlfIyBn"
      }
    },
    {
      "cell_type": "markdown",
      "source": [
        "# **SETUP**"
      ],
      "metadata": {
        "id": "_quk1J-pEYFc"
      }
    },
    {
      "cell_type": "markdown",
      "source": [
        "USING COLAB GPU T4"
      ],
      "metadata": {
        "id": "_0oaXvfdHeFv"
      }
    },
    {
      "cell_type": "code",
      "execution_count": null,
      "metadata": {
        "colab": {
          "base_uri": "https://localhost:8080/"
        },
        "id": "iLSolyMvGaIp",
        "outputId": "53143623-c38d-4902-aa37-21fed9e970d1"
      },
      "outputs": [
        {
          "output_type": "stream",
          "name": "stdout",
          "text": [
            "nvcc: NVIDIA (R) Cuda compiler driver\n",
            "Copyright (c) 2005-2022 NVIDIA Corporation\n",
            "Built on Wed_Sep_21_10:33:58_PDT_2022\n",
            "Cuda compilation tools, release 11.8, V11.8.89\n",
            "Build cuda_11.8.r11.8/compiler.31833905_0\n"
          ]
        }
      ],
      "source": [
        "!nvcc --version"
      ]
    },
    {
      "cell_type": "markdown",
      "source": [
        "# **MOUNTING** **DRIVE**"
      ],
      "metadata": {
        "id": "9O0qV9lbEi7a"
      }
    },
    {
      "cell_type": "code",
      "execution_count": 1,
      "metadata": {
        "colab": {
          "base_uri": "https://localhost:8080/"
        },
        "id": "M2chfHVzGbxC",
        "outputId": "11b4a243-be47-4500-9420-39b5e9522bc6"
      },
      "outputs": [
        {
          "output_type": "stream",
          "name": "stdout",
          "text": [
            "Mounted at /content/gdrive\n"
          ]
        }
      ],
      "source": [
        "from google.colab import drive\n",
        "drive.mount('/content/gdrive')"
      ]
    },
    {
      "cell_type": "markdown",
      "source": [
        "# **CLONE A REPOSITORY**\n",
        "\n"
      ],
      "metadata": {
        "id": "qCNo_GW8EziG"
      }
    },
    {
      "cell_type": "code",
      "execution_count": 2,
      "metadata": {
        "colab": {
          "base_uri": "https://localhost:8080/"
        },
        "id": "ZbT_-4MwGgM2",
        "outputId": "69ce88a1-6640-4489-9299-070032366941"
      },
      "outputs": [
        {
          "output_type": "stream",
          "name": "stdout",
          "text": [
            "Cloning into 'Wav2Lip'...\n",
            "remote: Enumerating objects: 369, done.\u001b[K\n",
            "remote: Counting objects: 100% (9/9), done.\u001b[K\n",
            "remote: Compressing objects: 100% (8/8), done.\u001b[K\n",
            "remote: Total 369 (delta 4), reused 3 (delta 1), pack-reused 360\u001b[K\n",
            "Receiving objects: 100% (369/369), 528.94 KiB | 1.89 MiB/s, done.\n",
            "Resolving deltas: 100% (202/202), done.\n"
          ]
        }
      ],
      "source": [
        "!git clone https://github.com/Rudrabha/Wav2Lip.git"
      ]
    },
    {
      "cell_type": "markdown",
      "source": [
        "# **ADDING PRETRAINED MODEL TO DESIRED LOCATION**\n",
        "\n",
        "\n"
      ],
      "metadata": {
        "id": "ZjRiCGXVKHFj"
      }
    },
    {
      "cell_type": "markdown",
      "source": [
        "# Moving Downloaded Pretrained model to Checkpoints File\n",
        "Downloaded From -> https://iiitaphyd-my.sharepoint.com/personal/radrabha_m_research_iiit_ac_in/_layouts/15/onedrive.aspx?id=%2Fpersonal%2Fradrabha%5Fm%5Fresearch%5Fiiit%5Fac%5Fin%2FDocuments%2FWav2Lip%5FModels%2Fwav2lip%5Fgan%2Epth&parent=%2Fpersonal%2Fradrabha%5Fm%5Fresearch%5Fiiit%5Fac%5Fin%2FDocuments%2FWav2Lip%5FModels&ga=1"
      ],
      "metadata": {
        "id": "SfDRGSq2EAIP"
      }
    },
    {
      "cell_type": "code",
      "execution_count": 4,
      "metadata": {
        "id": "2UeEjdScGwNd"
      },
      "outputs": [],
      "source": [
        "!cp -ri \"/content/gdrive/MyDrive/Wav2Lip/wav2lip_gan.pth\" /content/Wav2Lip/checkpoints/"
      ]
    },
    {
      "cell_type": "markdown",
      "source": [
        "# **INSTALLING REQUIRED DEPENDENCIES**"
      ],
      "metadata": {
        "id": "OR0QCmckFR3a"
      }
    },
    {
      "cell_type": "code",
      "execution_count": null,
      "metadata": {
        "id": "A6IkY7K5G8Q8",
        "colab": {
          "base_uri": "https://localhost:8080/"
        },
        "outputId": "d67a849a-cd94-48ba-baff-e4f697f82c6e"
      },
      "outputs": [
        {
          "output_type": "stream",
          "name": "stdout",
          "text": [
            "Collecting librosa==0.7.0 (from -r requirements.txt (line 1))\n",
            "  Downloading librosa-0.7.0.tar.gz (1.6 MB)\n",
            "\u001b[?25l     \u001b[90m━━━━━━━━━━━━━━━━━━━━━━━━━━━━━━━━━━━━━━━━\u001b[0m \u001b[32m0.0/1.6 MB\u001b[0m \u001b[31m?\u001b[0m eta \u001b[36m-:--:--\u001b[0m\r\u001b[2K     \u001b[91m━━━━━━━━━━━━━━━━━━━━━━━━━━━━━━━━━━━━━━━\u001b[0m\u001b[91m╸\u001b[0m \u001b[32m1.6/1.6 MB\u001b[0m \u001b[31m75.0 MB/s\u001b[0m eta \u001b[36m0:00:01\u001b[0m\r\u001b[2K     \u001b[90m━━━━━━━━━━━━━━━━━━━━━━━━━━━━━━━━━━━━━━━━\u001b[0m \u001b[32m1.6/1.6 MB\u001b[0m \u001b[31m44.3 MB/s\u001b[0m eta \u001b[36m0:00:00\u001b[0m\n",
            "\u001b[?25h  Preparing metadata (setup.py) ... \u001b[?25l\u001b[?25hdone\n",
            "Collecting numpy==1.17.1 (from -r requirements.txt (line 2))\n",
            "  Downloading numpy-1.17.1.zip (6.5 MB)\n",
            "\u001b[2K     \u001b[90m━━━━━━━━━━━━━━━━━━━━━━━━━━━━━━━━━━━━━━━━\u001b[0m \u001b[32m6.5/6.5 MB\u001b[0m \u001b[31m96.4 MB/s\u001b[0m eta \u001b[36m0:00:00\u001b[0m\n",
            "\u001b[?25h  Preparing metadata (setup.py) ... \u001b[?25l\u001b[?25hdone\n",
            "Requirement already satisfied: opencv-contrib-python>=4.2.0.34 in /usr/local/lib/python3.10/dist-packages (from -r requirements.txt (line 3)) (4.7.0.72)\n",
            "\u001b[31mERROR: Could not find a version that satisfies the requirement opencv-python==4.1.0.25 (from versions: 3.4.0.14, 3.4.10.37, 3.4.11.39, 3.4.11.41, 3.4.11.43, 3.4.11.45, 3.4.13.47, 3.4.15.55, 3.4.16.57, 3.4.16.59, 3.4.17.61, 3.4.17.63, 3.4.18.65, 4.3.0.38, 4.4.0.40, 4.4.0.42, 4.4.0.44, 4.4.0.46, 4.5.1.48, 4.5.3.56, 4.5.4.58, 4.5.4.60, 4.5.5.62, 4.5.5.64, 4.6.0.66, 4.7.0.68, 4.7.0.72, 4.8.0.74)\u001b[0m\u001b[31m\n",
            "\u001b[0m\u001b[31mERROR: No matching distribution found for opencv-python==4.1.0.25\u001b[0m\u001b[31m\n",
            "\u001b[0m"
          ]
        }
      ],
      "source": [
        "!cd Wav2Lip && pip install -r requirements.txt"
      ]
    },
    {
      "cell_type": "code",
      "execution_count": null,
      "metadata": {
        "colab": {
          "base_uri": "https://localhost:8080/"
        },
        "id": "DCSYO4-eiBdU",
        "outputId": "625bd189-0fa0-4085-8854-4b2b6c8c8d33"
      },
      "outputs": [
        {
          "output_type": "stream",
          "name": "stdout",
          "text": [
            "Collecting librosa==0.8.0\n",
            "  Downloading librosa-0.8.0.tar.gz (183 kB)\n",
            "\u001b[2K     \u001b[90m━━━━━━━━━━━━━━━━━━━━━━━━━━━━━━━━━━━━━━\u001b[0m \u001b[32m183.9/183.9 kB\u001b[0m \u001b[31m10.3 MB/s\u001b[0m eta \u001b[36m0:00:00\u001b[0m\n",
            "\u001b[?25h  Preparing metadata (setup.py) ... \u001b[?25l\u001b[?25hdone\n",
            "Requirement already satisfied: audioread>=2.0.0 in /usr/local/lib/python3.10/dist-packages (from librosa==0.8.0) (3.0.0)\n",
            "Requirement already satisfied: numpy>=1.15.0 in /usr/local/lib/python3.10/dist-packages (from librosa==0.8.0) (1.22.4)\n",
            "Requirement already satisfied: scipy>=1.0.0 in /usr/local/lib/python3.10/dist-packages (from librosa==0.8.0) (1.10.1)\n",
            "Requirement already satisfied: scikit-learn!=0.19.0,>=0.14.0 in /usr/local/lib/python3.10/dist-packages (from librosa==0.8.0) (1.2.2)\n",
            "Requirement already satisfied: joblib>=0.14 in /usr/local/lib/python3.10/dist-packages (from librosa==0.8.0) (1.3.1)\n",
            "Requirement already satisfied: decorator>=3.0.0 in /usr/local/lib/python3.10/dist-packages (from librosa==0.8.0) (4.4.2)\n",
            "Collecting resampy>=0.2.2 (from librosa==0.8.0)\n",
            "  Downloading resampy-0.4.2-py3-none-any.whl (3.1 MB)\n",
            "\u001b[2K     \u001b[90m━━━━━━━━━━━━━━━━━━━━━━━━━━━━━━━━━━━━━━━━\u001b[0m \u001b[32m3.1/3.1 MB\u001b[0m \u001b[31m94.4 MB/s\u001b[0m eta \u001b[36m0:00:00\u001b[0m\n",
            "\u001b[?25hRequirement already satisfied: numba>=0.43.0 in /usr/local/lib/python3.10/dist-packages (from librosa==0.8.0) (0.56.4)\n",
            "Requirement already satisfied: soundfile>=0.9.0 in /usr/local/lib/python3.10/dist-packages (from librosa==0.8.0) (0.12.1)\n",
            "Requirement already satisfied: pooch>=1.0 in /usr/local/lib/python3.10/dist-packages (from librosa==0.8.0) (1.6.0)\n",
            "Requirement already satisfied: llvmlite<0.40,>=0.39.0dev0 in /usr/local/lib/python3.10/dist-packages (from numba>=0.43.0->librosa==0.8.0) (0.39.1)\n",
            "Requirement already satisfied: setuptools in /usr/local/lib/python3.10/dist-packages (from numba>=0.43.0->librosa==0.8.0) (67.7.2)\n",
            "Requirement already satisfied: appdirs>=1.3.0 in /usr/local/lib/python3.10/dist-packages (from pooch>=1.0->librosa==0.8.0) (1.4.4)\n",
            "Requirement already satisfied: packaging>=20.0 in /usr/local/lib/python3.10/dist-packages (from pooch>=1.0->librosa==0.8.0) (23.1)\n",
            "Requirement already satisfied: requests>=2.19.0 in /usr/local/lib/python3.10/dist-packages (from pooch>=1.0->librosa==0.8.0) (2.27.1)\n",
            "Requirement already satisfied: threadpoolctl>=2.0.0 in /usr/local/lib/python3.10/dist-packages (from scikit-learn!=0.19.0,>=0.14.0->librosa==0.8.0) (3.1.0)\n",
            "Requirement already satisfied: cffi>=1.0 in /usr/local/lib/python3.10/dist-packages (from soundfile>=0.9.0->librosa==0.8.0) (1.15.1)\n",
            "Requirement already satisfied: pycparser in /usr/local/lib/python3.10/dist-packages (from cffi>=1.0->soundfile>=0.9.0->librosa==0.8.0) (2.21)\n",
            "Requirement already satisfied: urllib3<1.27,>=1.21.1 in /usr/local/lib/python3.10/dist-packages (from requests>=2.19.0->pooch>=1.0->librosa==0.8.0) (1.26.16)\n",
            "Requirement already satisfied: certifi>=2017.4.17 in /usr/local/lib/python3.10/dist-packages (from requests>=2.19.0->pooch>=1.0->librosa==0.8.0) (2023.5.7)\n",
            "Requirement already satisfied: charset-normalizer~=2.0.0 in /usr/local/lib/python3.10/dist-packages (from requests>=2.19.0->pooch>=1.0->librosa==0.8.0) (2.0.12)\n",
            "Requirement already satisfied: idna<4,>=2.5 in /usr/local/lib/python3.10/dist-packages (from requests>=2.19.0->pooch>=1.0->librosa==0.8.0) (3.4)\n",
            "Building wheels for collected packages: librosa\n",
            "  Building wheel for librosa (setup.py) ... \u001b[?25l\u001b[?25hdone\n",
            "  Created wheel for librosa: filename=librosa-0.8.0-py3-none-any.whl size=201378 sha256=a1d8aacbfc8f6f1dd3e6fe131e121908f421b838809bca5f9f840d426abb7d4a\n",
            "  Stored in directory: /root/.cache/pip/wheels/bf/b7/85/2f8044306ccec014930aea23ad4852fca9e2584e21c6972bc6\n",
            "Successfully built librosa\n",
            "Installing collected packages: resampy, librosa\n",
            "  Attempting uninstall: librosa\n",
            "    Found existing installation: librosa 0.10.0.post2\n",
            "    Uninstalling librosa-0.10.0.post2:\n",
            "      Successfully uninstalled librosa-0.10.0.post2\n",
            "Successfully installed librosa-0.8.0 resampy-0.4.2\n"
          ]
        }
      ],
      "source": [
        "#fixing the issue using Librosa new version\n",
        "!pip install librosa==0.8.0"
      ]
    },
    {
      "cell_type": "code",
      "execution_count": null,
      "metadata": {
        "colab": {
          "base_uri": "https://localhost:8080/"
        },
        "id": "thKvKVs4H3Qe",
        "outputId": "19098a8f-d2ff-400e-f67c-1b8ca843a0d5"
      },
      "outputs": [
        {
          "output_type": "stream",
          "name": "stdout",
          "text": [
            "--2023-07-18 12:50:56--  https://www.adrianbulat.com/downloads/python-fan/s3fd-619a316812.pth\n",
            "Resolving www.adrianbulat.com (www.adrianbulat.com)... 45.136.29.207\n",
            "Connecting to www.adrianbulat.com (www.adrianbulat.com)|45.136.29.207|:443... connected.\n",
            "HTTP request sent, awaiting response... 200 OK\n",
            "Length: 89843225 (86M) [application/octet-stream]\n",
            "Saving to: ‘Wav2Lip/face_detection/detection/sfd/s3fd.pth’\n",
            "\n",
            "Wav2Lip/face_detect 100%[===================>]  85.68M   166MB/s    in 0.5s    \n",
            "\n",
            "2023-07-18 12:50:57 (166 MB/s) - ‘Wav2Lip/face_detection/detection/sfd/s3fd.pth’ saved [89843225/89843225]\n",
            "\n"
          ]
        }
      ],
      "source": [
        "#loading face detection model\n",
        "!wget \"https://www.adrianbulat.com/downloads/python-fan/s3fd-619a316812.pth\" -O \"Wav2Lip/face_detection/detection/sfd/s3fd.pth\""
      ]
    },
    {
      "cell_type": "markdown",
      "source": [
        "# **ADD INPUT VIDEO AND AUDIO FILE TO SAMPLE DATA FROM DRIVE**"
      ],
      "metadata": {
        "id": "bSh7GwytIaTk"
      }
    },
    {
      "cell_type": "code",
      "execution_count": 6,
      "metadata": {
        "colab": {
          "base_uri": "https://localhost:8080/"
        },
        "id": "4-weDf7JJvSt",
        "outputId": "351dde7d-a284-40b9-ca32-55e9e4be4561"
      },
      "outputs": [
        {
          "output_type": "stream",
          "name": "stdout",
          "text": [
            "anscombe.json\t\t     california_housing_train.csv  INPUT_VIDEO.mp4  mnist_train_small.csv\n",
            "california_housing_test.csv  INPUT_AUDIO.wav\t\t   mnist_test.csv   README.md\n"
          ]
        }
      ],
      "source": [
        "!cp \"/content/gdrive/MyDrive/Wav2Lip/INPUT_VIDEO.mp4\" \"/content/gdrive/MyDrive/Wav2Lip/INPUT_AUDIO.wav\" sample_data/\n",
        "!ls sample_data/"
      ]
    },
    {
      "cell_type": "markdown",
      "source": [
        "# **NOTE**\n",
        "- THIS ALGORITH WILL ONLY WORK FOR THE FRAMES HAVING FACES , THE VIDEO IS TRIMMED IN SUCH A WAY SO THAT ALL THE FRAMES CONTAINS SOME FACE\n",
        "- I TRIED DOING IT DIRECTLY IT RETURN NO FACE DETECT ERROR\n",
        "    - AFTER RESEARCHING AND READING FROM GITHUB DISCUSSIONS I CAME ACROSS -- BOX METHOD , BUT THE CONTRIBUTOR WAS NOT SURE ABOUT HOW TO USE IT\n",
        "\n",
        "\n",
        "RAISED ISSUE - https://github.com/Rudrabha/Wav2Lip/issues/42#issuecomment-1807015405\n",
        "  "
      ],
      "metadata": {
        "id": "af9M6xWtGfoT"
      }
    },
    {
      "cell_type": "markdown",
      "source": [
        "# **RUNING THE LIPSYNCING ALGORITHM ON AUDIO AND VIDEO FILE**"
      ],
      "metadata": {
        "id": "-SWS8WkLJa6T"
      }
    },
    {
      "cell_type": "code",
      "execution_count": null,
      "metadata": {
        "colab": {
          "base_uri": "https://localhost:8080/"
        },
        "id": "6oZxGxKcP2sv",
        "outputId": "7de3fac5-e3d3-4c01-a4f3-1b9d3205f0df"
      },
      "outputs": [
        {
          "output_type": "stream",
          "name": "stdout",
          "text": [
            "Using cuda for inference.\n",
            "Reading video frames...\n",
            "Number of frames available for inference: 1031\n",
            "(80, 5386)\n",
            "Length of mel chunks: 1680\n",
            "  0% 0/14 [00:00<?, ?it/s]\n",
            "  0% 0/65 [00:00<?, ?it/s]\u001b[A\n",
            "  2% 1/65 [03:11<3:23:55, 191.18s/it]\u001b[A\n",
            "  3% 2/65 [03:14<1:24:42, 80.67s/it] \u001b[A\n",
            "  5% 3/65 [03:17<46:39, 45.15s/it]  \u001b[A\n",
            "  6% 4/65 [03:20<28:58, 28.50s/it]\u001b[A\n",
            "  8% 5/65 [03:23<19:21, 19.36s/it]\u001b[A\n",
            "  9% 6/65 [03:26<13:30, 13.74s/it]\u001b[A\n",
            " 11% 7/65 [03:29<09:51, 10.19s/it]\u001b[A\n",
            " 12% 8/65 [03:32<07:27,  7.85s/it]\u001b[A\n",
            " 14% 9/65 [03:34<05:53,  6.32s/it]\u001b[A\n",
            " 15% 10/65 [03:38<04:54,  5.35s/it]\u001b[A\n",
            " 17% 11/65 [03:41<04:07,  4.58s/it]\u001b[A\n",
            " 18% 12/65 [03:43<03:34,  4.04s/it]\u001b[A\n",
            " 20% 13/65 [03:46<03:12,  3.70s/it]\u001b[A\n",
            " 22% 14/65 [03:49<02:59,  3.53s/it]\u001b[A\n",
            " 23% 15/65 [03:52<02:46,  3.33s/it]\u001b[A\n",
            " 25% 16/65 [03:55<02:35,  3.18s/it]\u001b[A\n",
            " 26% 17/65 [03:58<02:27,  3.08s/it]\u001b[A\n",
            " 28% 18/65 [04:01<02:23,  3.05s/it]\u001b[A\n",
            " 29% 19/65 [04:04<02:22,  3.10s/it]\u001b[A\n",
            " 31% 20/65 [04:07<02:16,  3.03s/it]\u001b[A\n",
            " 32% 21/65 [04:10<02:10,  2.98s/it]\u001b[A\n",
            " 34% 22/65 [04:13<02:07,  2.95s/it]\u001b[A\n",
            " 35% 23/65 [04:16<02:08,  3.05s/it]\u001b[A\n",
            " 37% 24/65 [04:19<02:04,  3.03s/it]\u001b[A\n",
            " 38% 25/65 [04:22<01:59,  2.99s/it]\u001b[A\n",
            " 40% 26/65 [04:25<01:55,  2.95s/it]\u001b[A\n",
            " 42% 27/65 [04:28<01:52,  2.96s/it]\u001b[A\n",
            " 43% 28/65 [04:31<01:51,  3.02s/it]\u001b[A\n",
            " 45% 29/65 [04:34<01:47,  2.99s/it]\u001b[A\n",
            " 46% 30/65 [04:37<01:43,  2.96s/it]\u001b[A\n",
            " 48% 31/65 [04:40<01:39,  2.93s/it]\u001b[A\n",
            " 49% 32/65 [04:43<01:38,  2.98s/it]\u001b[A\n",
            " 51% 33/65 [04:46<01:37,  3.04s/it]\u001b[A\n",
            " 52% 34/65 [04:49<01:32,  2.98s/it]\u001b[A\n",
            " 54% 35/65 [04:52<01:28,  2.94s/it]\u001b[A\n",
            " 55% 36/65 [04:55<01:26,  2.98s/it]\u001b[A\n",
            " 57% 37/65 [04:58<01:25,  3.07s/it]\u001b[A\n",
            " 58% 38/65 [05:01<01:21,  3.00s/it]\u001b[A\n",
            " 60% 39/65 [05:04<01:17,  2.96s/it]\u001b[A\n",
            " 62% 40/65 [05:06<01:13,  2.94s/it]\u001b[A\n",
            " 63% 41/65 [05:09<01:10,  2.95s/it]\u001b[A\n",
            " 65% 42/65 [05:13<01:09,  3.01s/it]\u001b[A\n",
            " 66% 43/65 [05:15<01:05,  2.97s/it]\u001b[A\n",
            " 68% 44/65 [05:18<01:01,  2.93s/it]\u001b[A\n",
            " 69% 45/65 [05:21<00:58,  2.93s/it]\u001b[A\n",
            " 71% 46/65 [05:25<00:57,  3.04s/it]\u001b[A\n",
            " 72% 47/65 [05:27<00:54,  3.01s/it]\u001b[A\n",
            " 74% 48/65 [05:30<00:50,  2.97s/it]\u001b[A\n",
            " 75% 49/65 [05:33<00:46,  2.94s/it]\u001b[A\n",
            " 77% 50/65 [05:36<00:44,  2.97s/it]\u001b[A\n",
            " 78% 51/65 [05:39<00:42,  3.02s/it]\u001b[A\n",
            " 80% 52/65 [05:42<00:38,  2.96s/it]\u001b[A\n",
            " 82% 53/65 [05:45<00:34,  2.91s/it]\u001b[A\n",
            " 83% 54/65 [05:48<00:32,  2.91s/it]\u001b[A\n",
            " 85% 55/65 [05:51<00:29,  2.94s/it]\u001b[A\n",
            " 86% 56/65 [05:54<00:27,  3.05s/it]\u001b[A\n",
            " 88% 57/65 [05:57<00:24,  3.01s/it]\u001b[A\n",
            " 89% 58/65 [06:00<00:20,  2.97s/it]\u001b[A\n",
            " 91% 59/65 [06:03<00:17,  2.98s/it]\u001b[A\n",
            " 92% 60/65 [06:06<00:15,  3.06s/it]\u001b[A\n",
            " 94% 61/65 [06:09<00:12,  3.01s/it]\u001b[A\n",
            " 95% 62/65 [06:12<00:08,  2.96s/it]\u001b[A\n",
            " 97% 63/65 [06:15<00:05,  2.92s/it]\u001b[A\n",
            " 98% 64/65 [06:18<00:02,  2.92s/it]\u001b[A\n",
            "100% 65/65 [06:36<00:00,  6.09s/it]\n",
            "Load checkpoint from: checkpoints/wav2lip_gan.pth\n",
            "Model loaded\n",
            "100% 14/14 [07:10<00:00, 30.76s/it]\n",
            "ffmpeg version 4.2.7-0ubuntu0.1 Copyright (c) 2000-2022 the FFmpeg developers\n",
            "  built with gcc 9 (Ubuntu 9.4.0-1ubuntu1~20.04.1)\n",
            "  configuration: --prefix=/usr --extra-version=0ubuntu0.1 --toolchain=hardened --libdir=/usr/lib/x86_64-linux-gnu --incdir=/usr/include/x86_64-linux-gnu --arch=amd64 --enable-gpl --disable-stripping --enable-avresample --disable-filter=resample --enable-avisynth --enable-gnutls --enable-ladspa --enable-libaom --enable-libass --enable-libbluray --enable-libbs2b --enable-libcaca --enable-libcdio --enable-libcodec2 --enable-libflite --enable-libfontconfig --enable-libfreetype --enable-libfribidi --enable-libgme --enable-libgsm --enable-libjack --enable-libmp3lame --enable-libmysofa --enable-libopenjpeg --enable-libopenmpt --enable-libopus --enable-libpulse --enable-librsvg --enable-librubberband --enable-libshine --enable-libsnappy --enable-libsoxr --enable-libspeex --enable-libssh --enable-libtheora --enable-libtwolame --enable-libvidstab --enable-libvorbis --enable-libvpx --enable-libwavpack --enable-libwebp --enable-libx265 --enable-libxml2 --enable-libxvid --enable-libzmq --enable-libzvbi --enable-lv2 --enable-omx --enable-openal --enable-opencl --enable-opengl --enable-sdl2 --enable-libdc1394 --enable-libdrm --enable-libiec61883 --enable-nvenc --enable-chromaprint --enable-frei0r --enable-libx264 --enable-shared\n",
            "  libavutil      56. 31.100 / 56. 31.100\n",
            "  libavcodec     58. 54.100 / 58. 54.100\n",
            "  libavformat    58. 29.100 / 58. 29.100\n",
            "  libavdevice    58.  8.100 / 58.  8.100\n",
            "  libavfilter     7. 57.100 /  7. 57.100\n",
            "  libavresample   4.  0.  0 /  4.  0.  0\n",
            "  libswscale      5.  5.100 /  5.  5.100\n",
            "  libswresample   3.  5.100 /  3.  5.100\n",
            "  libpostproc    55.  5.100 / 55.  5.100\n",
            "\u001b[0;35m[mp3 @ 0x59dfe7c540c0] \u001b[0m\u001b[0;33mEstimating duration from bitrate, this may be inaccurate\n",
            "\u001b[0mInput #0, mp3, from '/content/sample_data/output10.wav':\n",
            "  Duration: 00:01:07.32, start: 0.000000, bitrate: 96 kb/s\n",
            "    Stream #0:0: Audio: mp3, 44100 Hz, mono, fltp, 96 kb/s\n",
            "Input #1, avi, from 'temp/result.avi':\n",
            "  Metadata:\n",
            "    encoder         : Lavf59.27.100\n",
            "  Duration: 00:01:07.20, start: 0.000000, bitrate: 2046 kb/s\n",
            "    Stream #1:0: Video: mpeg4 (Simple Profile) (DIVX / 0x58564944), yuv420p, 1280x720 [SAR 1:1 DAR 16:9], 2041 kb/s, 25 fps, 25 tbr, 25 tbn, 25 tbc\n",
            "Stream mapping:\n",
            "  Stream #1:0 -> #0:0 (mpeg4 (native) -> h264 (libx264))\n",
            "  Stream #0:0 -> #0:1 (mp3 (mp3float) -> aac (native))\n",
            "Press [q] to stop, [?] for help\n",
            "\u001b[1;36m[libx264 @ 0x59dfe7c9d7c0] \u001b[0m\u001b[0;33m-qscale is ignored, -crf is recommended.\n",
            "\u001b[0m\u001b[1;36m[libx264 @ 0x59dfe7c9d7c0] \u001b[0musing SAR=1/1\n",
            "\u001b[1;36m[libx264 @ 0x59dfe7c9d7c0] \u001b[0musing cpu capabilities: MMX2 SSE2Fast SSSE3 SSE4.2 AVX FMA3 BMI2 AVX2 AVX512\n",
            "\u001b[1;36m[libx264 @ 0x59dfe7c9d7c0] \u001b[0mprofile High, level 3.1\n",
            "\u001b[1;36m[libx264 @ 0x59dfe7c9d7c0] \u001b[0m264 - core 155 r2917 0a84d98 - H.264/MPEG-4 AVC codec - Copyleft 2003-2018 - http://www.videolan.org/x264.html - options: cabac=1 ref=3 deblock=1:0:0 analyse=0x3:0x113 me=hex subme=7 psy=1 psy_rd=1.00:0.00 mixed_ref=1 me_range=16 chroma_me=1 trellis=1 8x8dct=1 cqm=0 deadzone=21,11 fast_pskip=1 chroma_qp_offset=-2 threads=3 lookahead_threads=1 sliced_threads=0 nr=0 decimate=1 interlaced=0 bluray_compat=0 constrained_intra=0 bframes=3 b_pyramid=2 b_adapt=1 b_bias=0 direct=1 weightb=1 open_gop=0 weightp=2 keyint=250 keyint_min=25 scenecut=40 intra_refresh=0 rc_lookahead=40 rc=crf mbtree=1 crf=23.0 qcomp=0.60 qpmin=0 qpmax=69 qpstep=4 ip_ratio=1.40 aq=1:1.00\n",
            "Output #0, mp4, to 'results/result_voice.mp4':\n",
            "  Metadata:\n",
            "    encoder         : Lavf58.29.100\n",
            "    Stream #0:0: Video: h264 (libx264) (avc1 / 0x31637661), yuv420p(progressive), 1280x720 [SAR 1:1 DAR 16:9], q=-1--1, 25 fps, 12800 tbn, 25 tbc\n",
            "    Metadata:\n",
            "      encoder         : Lavc58.54.100 libx264\n",
            "    Side data:\n",
            "      cpb: bitrate max/min/avg: 0/0/0 buffer size: 0 vbv_delay: -1\n",
            "    Stream #0:1: Audio: aac (LC) (mp4a / 0x6134706D), 44100 Hz, mono, fltp, 69 kb/s\n",
            "    Metadata:\n",
            "      encoder         : Lavc58.54.100 aac\n",
            "frame= 1680 fps= 28 q=-1.0 Lsize=    8308kB time=00:01:07.33 bitrate=1010.7kbits/s speed=1.12x    \n",
            "video:7685kB audio:571kB subtitle:0kB other streams:0kB global headers:0kB muxing overhead: 0.625496%\n",
            "\u001b[1;36m[libx264 @ 0x59dfe7c9d7c0] \u001b[0mframe I:8     Avg QP:15.03  size: 23970\n",
            "\u001b[1;36m[libx264 @ 0x59dfe7c9d7c0] \u001b[0mframe P:1016  Avg QP:20.39  size:  5960\n",
            "\u001b[1;36m[libx264 @ 0x59dfe7c9d7c0] \u001b[0mframe B:656   Avg QP:23.49  size:  2472\n",
            "\u001b[1;36m[libx264 @ 0x59dfe7c9d7c0] \u001b[0mconsecutive B-frames: 43.1% 11.1% 10.4% 35.5%\n",
            "\u001b[1;36m[libx264 @ 0x59dfe7c9d7c0] \u001b[0mmb I  I16..4: 40.9% 53.0%  6.1%\n",
            "\u001b[1;36m[libx264 @ 0x59dfe7c9d7c0] \u001b[0mmb P  I16..4:  1.6%  6.8%  0.2%  P16..4: 20.0%  5.8%  2.4%  0.0%  0.0%    skip:63.2%\n",
            "\u001b[1;36m[libx264 @ 0x59dfe7c9d7c0] \u001b[0mmb B  I16..4:  0.3%  1.4%  0.0%  B16..8: 23.8%  2.4%  0.2%  direct: 0.8%  skip:70.9%  L0:53.6% L1:42.6% BI: 3.8%\n",
            "\u001b[1;36m[libx264 @ 0x59dfe7c9d7c0] \u001b[0m8x8 transform intra:77.5% inter:82.0%\n",
            "\u001b[1;36m[libx264 @ 0x59dfe7c9d7c0] \u001b[0mcoded y,uvDC,uvAC intra: 28.0% 33.1% 4.9% inter: 5.3% 5.2% 0.0%\n",
            "\u001b[1;36m[libx264 @ 0x59dfe7c9d7c0] \u001b[0mi16 v,h,dc,p: 51% 26% 15%  8%\n",
            "\u001b[1;36m[libx264 @ 0x59dfe7c9d7c0] \u001b[0mi8 v,h,dc,ddl,ddr,vr,hd,vl,hu: 27% 18% 44%  2%  2%  2%  2%  2%  2%\n",
            "\u001b[1;36m[libx264 @ 0x59dfe7c9d7c0] \u001b[0mi4 v,h,dc,ddl,ddr,vr,hd,vl,hu: 27% 27% 14%  4%  6%  7%  7%  4%  3%\n",
            "\u001b[1;36m[libx264 @ 0x59dfe7c9d7c0] \u001b[0mi8c dc,h,v,p: 57% 19% 21%  3%\n",
            "\u001b[1;36m[libx264 @ 0x59dfe7c9d7c0] \u001b[0mWeighted P-Frames: Y:0.2% UV:0.0%\n",
            "\u001b[1;36m[libx264 @ 0x59dfe7c9d7c0] \u001b[0mref P L0: 74.0% 10.3% 11.7%  4.0%  0.0%\n",
            "\u001b[1;36m[libx264 @ 0x59dfe7c9d7c0] \u001b[0mref B L0: 87.3% 10.4%  2.3%\n",
            "\u001b[1;36m[libx264 @ 0x59dfe7c9d7c0] \u001b[0mref B L1: 97.1%  2.9%\n",
            "\u001b[1;36m[libx264 @ 0x59dfe7c9d7c0] \u001b[0mkb/s:936.81\n",
            "\u001b[1;36m[aac @ 0x59dfe7c9b5c0] \u001b[0mQavg: 158.364\n"
          ]
        }
      ],
      "source": [
        "!cd Wav2Lip && python inference.py --checkpoint_path checkpoints/wav2lip_gan.pth --face \"/content/sample_data/INPUT_VIDEO.mp4\" --audio \"/content/sample_data/INPUT_AUDIO.wav\""
      ]
    },
    {
      "cell_type": "markdown",
      "source": [
        "# **IMPROVEMENTS AND VARIATIONS**"
      ],
      "metadata": {
        "id": "n-qO291SHthO"
      }
    },
    {
      "cell_type": "markdown",
      "source": [
        "# **USING PADDING ARGUMENT**\n",
        "- Experiment with the --pads argument to adjust the detected face bounding box. Often leads to improved results. You might need to increase the bottom padding to include the chin region"
      ],
      "metadata": {
        "id": "2BzarMOlH4rV"
      }
    },
    {
      "cell_type": "code",
      "source": [
        "!cd Wav2Lip && python inference.py --checkpoint_path checkpoints/wav2lip_gan.pth --face \"/content/sample_data/INPUT_VIDEO.mp4\" --audio \"/content/sample_data/INPUT_AUDIO.wav\" --pad 0 20 0 0\n"
      ],
      "metadata": {
        "id": "MwOrROQ4Hsg4"
      },
      "execution_count": null,
      "outputs": []
    },
    {
      "cell_type": "markdown",
      "source": [
        "# **USING RESIZE FACTOR ARGUMENT**\n",
        "- Experiment with the --resize_factor argument, to get a lower-resolution video"
      ],
      "metadata": {
        "id": "7oJgf0NzJudX"
      }
    },
    {
      "cell_type": "code",
      "execution_count": null,
      "metadata": {
        "colab": {
          "base_uri": "https://localhost:8080/"
        },
        "id": "ybT7H6YIgNOU",
        "outputId": "121c403a-5cb4-452f-f82c-9a494d8b36ec"
      },
      "outputs": [
        {
          "output_type": "stream",
          "name": "stdout",
          "text": [
            "Using cuda for inference.\n",
            "Reading video frames...\n",
            "Number of frames available for inference: 1031\n",
            "(80, 5386)\n",
            "Length of mel chunks: 1680\n",
            "  0% 0/14 [00:00<?, ?it/s]\n",
            "  0% 0/65 [00:00<?, ?it/s]\u001b[A\n",
            "  2% 1/65 [00:11<11:57, 11.21s/it]\u001b[A\n",
            "  3% 2/65 [00:11<05:18,  5.05s/it]\u001b[A\n",
            "  5% 3/65 [00:12<03:11,  3.08s/it]\u001b[A\n",
            "  6% 4/65 [00:13<02:11,  2.16s/it]\u001b[A\n",
            "  8% 5/65 [00:14<01:38,  1.65s/it]\u001b[A\n",
            "  9% 6/65 [00:14<01:19,  1.34s/it]\u001b[A\n",
            " 11% 7/65 [00:15<01:06,  1.15s/it]\u001b[A\n",
            " 12% 8/65 [00:16<00:59,  1.05s/it]\u001b[A\n",
            " 14% 9/65 [00:17<00:56,  1.01s/it]\u001b[A\n",
            " 15% 10/65 [00:18<00:53,  1.03it/s]\u001b[A\n",
            " 17% 11/65 [00:19<00:50,  1.07it/s]\u001b[A\n",
            " 18% 12/65 [00:20<00:47,  1.10it/s]\u001b[A\n",
            " 20% 13/65 [00:20<00:44,  1.16it/s]\u001b[A\n",
            " 22% 14/65 [00:21<00:42,  1.21it/s]\u001b[A\n",
            " 23% 15/65 [00:22<00:40,  1.24it/s]\u001b[A\n",
            " 25% 16/65 [00:23<00:38,  1.26it/s]\u001b[A\n",
            " 26% 17/65 [00:23<00:37,  1.29it/s]\u001b[A\n",
            " 28% 18/65 [00:24<00:36,  1.29it/s]\u001b[A\n",
            " 29% 19/65 [00:25<00:35,  1.30it/s]\u001b[A\n",
            " 31% 20/65 [00:26<00:34,  1.30it/s]\u001b[A\n",
            " 32% 21/65 [00:26<00:33,  1.31it/s]\u001b[A\n",
            " 34% 22/65 [00:27<00:32,  1.31it/s]\u001b[A\n",
            " 35% 23/65 [00:28<00:31,  1.32it/s]\u001b[A\n",
            " 37% 24/65 [00:29<00:30,  1.32it/s]\u001b[A\n",
            " 38% 25/65 [00:29<00:30,  1.32it/s]\u001b[A\n",
            " 40% 26/65 [00:30<00:30,  1.29it/s]\u001b[A\n",
            " 42% 27/65 [00:31<00:30,  1.23it/s]\u001b[A\n",
            " 43% 28/65 [00:32<00:30,  1.19it/s]\u001b[A\n",
            " 45% 29/65 [00:33<00:30,  1.17it/s]\u001b[A\n",
            " 46% 30/65 [00:34<00:29,  1.18it/s]\u001b[A\n",
            " 48% 31/65 [00:34<00:27,  1.22it/s]\u001b[A\n",
            " 49% 32/65 [00:35<00:26,  1.24it/s]\u001b[A\n",
            " 51% 33/65 [00:36<00:25,  1.27it/s]\u001b[A\n",
            " 52% 34/65 [00:37<00:24,  1.29it/s]\u001b[A\n",
            " 54% 35/65 [00:37<00:23,  1.30it/s]\u001b[A\n",
            " 55% 36/65 [00:38<00:22,  1.31it/s]\u001b[A\n",
            " 57% 37/65 [00:39<00:21,  1.31it/s]\u001b[A\n",
            " 58% 38/65 [00:40<00:20,  1.32it/s]\u001b[A\n",
            " 60% 39/65 [00:40<00:19,  1.32it/s]\u001b[A\n",
            " 62% 40/65 [00:41<00:19,  1.31it/s]\u001b[A\n",
            " 63% 41/65 [00:42<00:18,  1.32it/s]\u001b[A\n",
            " 65% 42/65 [00:43<00:17,  1.32it/s]\u001b[A\n",
            " 66% 43/65 [00:44<00:17,  1.29it/s]\u001b[A\n",
            " 68% 44/65 [00:44<00:17,  1.23it/s]\u001b[A\n",
            " 69% 45/65 [00:45<00:16,  1.20it/s]\u001b[A\n",
            " 71% 46/65 [00:46<00:16,  1.16it/s]\u001b[A\n",
            " 72% 47/65 [00:47<00:15,  1.17it/s]\u001b[A\n",
            " 74% 48/65 [00:48<00:14,  1.20it/s]\u001b[A\n",
            " 75% 49/65 [00:49<00:13,  1.23it/s]\u001b[A\n",
            " 77% 50/65 [00:49<00:11,  1.26it/s]\u001b[A\n",
            " 78% 51/65 [00:50<00:10,  1.28it/s]\u001b[A\n",
            " 80% 52/65 [00:51<00:10,  1.29it/s]\u001b[A\n",
            " 82% 53/65 [00:52<00:09,  1.30it/s]\u001b[A\n",
            " 83% 54/65 [00:52<00:08,  1.31it/s]\u001b[A\n",
            " 85% 55/65 [00:53<00:07,  1.31it/s]\u001b[A\n",
            " 86% 56/65 [00:54<00:06,  1.31it/s]\u001b[A\n",
            " 88% 57/65 [00:55<00:06,  1.31it/s]\u001b[A\n",
            " 89% 58/65 [00:55<00:05,  1.30it/s]\u001b[A\n",
            " 91% 59/65 [00:56<00:04,  1.29it/s]\u001b[A\n",
            " 92% 60/65 [00:57<00:04,  1.24it/s]\u001b[A\n",
            " 94% 61/65 [00:58<00:03,  1.19it/s]\u001b[A\n",
            " 95% 62/65 [00:59<00:02,  1.17it/s]\u001b[A\n",
            " 97% 63/65 [01:00<00:01,  1.16it/s]\u001b[A\n",
            " 98% 64/65 [01:01<00:00,  1.17it/s]\u001b[A\n",
            "100% 65/65 [01:05<00:00,  1.01s/it]\n",
            "Load checkpoint from: checkpoints/wav2lip_gan.pth\n",
            "Model loaded\n",
            "100% 14/14 [01:26<00:00,  6.14s/it]\n",
            "ffmpeg version 4.2.7-0ubuntu0.1 Copyright (c) 2000-2022 the FFmpeg developers\n",
            "  built with gcc 9 (Ubuntu 9.4.0-1ubuntu1~20.04.1)\n",
            "  configuration: --prefix=/usr --extra-version=0ubuntu0.1 --toolchain=hardened --libdir=/usr/lib/x86_64-linux-gnu --incdir=/usr/include/x86_64-linux-gnu --arch=amd64 --enable-gpl --disable-stripping --enable-avresample --disable-filter=resample --enable-avisynth --enable-gnutls --enable-ladspa --enable-libaom --enable-libass --enable-libbluray --enable-libbs2b --enable-libcaca --enable-libcdio --enable-libcodec2 --enable-libflite --enable-libfontconfig --enable-libfreetype --enable-libfribidi --enable-libgme --enable-libgsm --enable-libjack --enable-libmp3lame --enable-libmysofa --enable-libopenjpeg --enable-libopenmpt --enable-libopus --enable-libpulse --enable-librsvg --enable-librubberband --enable-libshine --enable-libsnappy --enable-libsoxr --enable-libspeex --enable-libssh --enable-libtheora --enable-libtwolame --enable-libvidstab --enable-libvorbis --enable-libvpx --enable-libwavpack --enable-libwebp --enable-libx265 --enable-libxml2 --enable-libxvid --enable-libzmq --enable-libzvbi --enable-lv2 --enable-omx --enable-openal --enable-opencl --enable-opengl --enable-sdl2 --enable-libdc1394 --enable-libdrm --enable-libiec61883 --enable-nvenc --enable-chromaprint --enable-frei0r --enable-libx264 --enable-shared\n",
            "  libavutil      56. 31.100 / 56. 31.100\n",
            "  libavcodec     58. 54.100 / 58. 54.100\n",
            "  libavformat    58. 29.100 / 58. 29.100\n",
            "  libavdevice    58.  8.100 / 58.  8.100\n",
            "  libavfilter     7. 57.100 /  7. 57.100\n",
            "  libavresample   4.  0.  0 /  4.  0.  0\n",
            "  libswscale      5.  5.100 /  5.  5.100\n",
            "  libswresample   3.  5.100 /  3.  5.100\n",
            "  libpostproc    55.  5.100 / 55.  5.100\n",
            "\u001b[0;35m[mp3 @ 0x5c1fcad870c0] \u001b[0m\u001b[0;33mEstimating duration from bitrate, this may be inaccurate\n",
            "\u001b[0mInput #0, mp3, from '../sample_data/output10.wav':\n",
            "  Duration: 00:01:07.32, start: 0.000000, bitrate: 96 kb/s\n",
            "    Stream #0:0: Audio: mp3, 44100 Hz, mono, fltp, 96 kb/s\n",
            "Input #1, avi, from 'temp/result.avi':\n",
            "  Metadata:\n",
            "    encoder         : Lavf59.27.100\n",
            "  Duration: 00:01:07.20, start: 0.000000, bitrate: 933 kb/s\n",
            "    Stream #1:0: Video: mpeg4 (Simple Profile) (DIVX / 0x58564944), yuv420p, 640x360 [SAR 1:1 DAR 16:9], 928 kb/s, 25 fps, 25 tbr, 25 tbn, 25 tbc\n",
            "Stream mapping:\n",
            "  Stream #1:0 -> #0:0 (mpeg4 (native) -> h264 (libx264))\n",
            "  Stream #0:0 -> #0:1 (mp3 (mp3float) -> aac (native))\n",
            "Press [q] to stop, [?] for help\n",
            "\u001b[1;36m[libx264 @ 0x5c1fcadd0580] \u001b[0m\u001b[0;33m-qscale is ignored, -crf is recommended.\n",
            "\u001b[0m\u001b[1;36m[libx264 @ 0x5c1fcadd0580] \u001b[0musing SAR=1/1\n",
            "\u001b[1;36m[libx264 @ 0x5c1fcadd0580] \u001b[0musing cpu capabilities: MMX2 SSE2Fast SSSE3 SSE4.2 AVX FMA3 BMI2 AVX2 AVX512\n",
            "\u001b[1;36m[libx264 @ 0x5c1fcadd0580] \u001b[0mprofile High, level 3.0\n",
            "\u001b[1;36m[libx264 @ 0x5c1fcadd0580] \u001b[0m264 - core 155 r2917 0a84d98 - H.264/MPEG-4 AVC codec - Copyleft 2003-2018 - http://www.videolan.org/x264.html - options: cabac=1 ref=3 deblock=1:0:0 analyse=0x3:0x113 me=hex subme=7 psy=1 psy_rd=1.00:0.00 mixed_ref=1 me_range=16 chroma_me=1 trellis=1 8x8dct=1 cqm=0 deadzone=21,11 fast_pskip=1 chroma_qp_offset=-2 threads=3 lookahead_threads=1 sliced_threads=0 nr=0 decimate=1 interlaced=0 bluray_compat=0 constrained_intra=0 bframes=3 b_pyramid=2 b_adapt=1 b_bias=0 direct=1 weightb=1 open_gop=0 weightp=2 keyint=250 keyint_min=25 scenecut=40 intra_refresh=0 rc_lookahead=40 rc=crf mbtree=1 crf=23.0 qcomp=0.60 qpmin=0 qpmax=69 qpstep=4 ip_ratio=1.40 aq=1:1.00\n",
            "Output #0, mp4, to 'results/result_voice.mp4':\n",
            "  Metadata:\n",
            "    encoder         : Lavf58.29.100\n",
            "    Stream #0:0: Video: h264 (libx264) (avc1 / 0x31637661), yuv420p(progressive), 640x360 [SAR 1:1 DAR 16:9], q=-1--1, 25 fps, 12800 tbn, 25 tbc\n",
            "    Metadata:\n",
            "      encoder         : Lavc58.54.100 libx264\n",
            "    Side data:\n",
            "      cpb: bitrate max/min/avg: 0/0/0 buffer size: 0 vbv_delay: -1\n",
            "    Stream #0:1: Audio: aac (LC) (mp4a / 0x6134706D), 44100 Hz, mono, fltp, 69 kb/s\n",
            "    Metadata:\n",
            "      encoder         : Lavc58.54.100 aac\n",
            "frame= 1680 fps= 95 q=-1.0 Lsize=    3360kB time=00:01:07.33 bitrate= 408.8kbits/s speed= 3.8x    \n",
            "video:2736kB audio:571kB subtitle:0kB other streams:0kB global headers:0kB muxing overhead: 1.605491%\n",
            "\u001b[1;36m[libx264 @ 0x5c1fcadd0580] \u001b[0mframe I:7     Avg QP:16.42  size: 10099\n",
            "\u001b[1;36m[libx264 @ 0x5c1fcadd0580] \u001b[0mframe P:881   Avg QP:21.44  size:  2365\n",
            "\u001b[1;36m[libx264 @ 0x5c1fcadd0580] \u001b[0mframe B:792   Avg QP:24.82  size:   817\n",
            "\u001b[1;36m[libx264 @ 0x5c1fcadd0580] \u001b[0mconsecutive B-frames: 32.8% 10.2%  8.4% 48.6%\n",
            "\u001b[1;36m[libx264 @ 0x5c1fcadd0580] \u001b[0mmb I  I16..4: 39.1% 49.1% 11.9%\n",
            "\u001b[1;36m[libx264 @ 0x5c1fcadd0580] \u001b[0mmb P  I16..4:  1.2%  5.6%  0.4%  P16..4: 18.2%  8.9%  5.1%  0.0%  0.0%    skip:60.5%\n",
            "\u001b[1;36m[libx264 @ 0x5c1fcadd0580] \u001b[0mmb B  I16..4:  0.2%  1.1%  0.1%  B16..8: 24.7%  3.8%  0.7%  direct: 0.7%  skip:68.8%  L0:48.5% L1:44.2% BI: 7.3%\n",
            "\u001b[1;36m[libx264 @ 0x5c1fcadd0580] \u001b[0m8x8 transform intra:75.1% inter:69.3%\n",
            "\u001b[1;36m[libx264 @ 0x5c1fcadd0580] \u001b[0mcoded y,uvDC,uvAC intra: 35.8% 33.4% 9.3% inter: 6.9% 5.2% 0.1%\n",
            "\u001b[1;36m[libx264 @ 0x5c1fcadd0580] \u001b[0mi16 v,h,dc,p: 51% 26% 16%  6%\n",
            "\u001b[1;36m[libx264 @ 0x5c1fcadd0580] \u001b[0mi8 v,h,dc,ddl,ddr,vr,hd,vl,hu: 29% 15% 43%  2%  2%  2%  2%  2%  2%\n",
            "\u001b[1;36m[libx264 @ 0x5c1fcadd0580] \u001b[0mi4 v,h,dc,ddl,ddr,vr,hd,vl,hu: 22% 31% 14%  4%  6%  7%  7%  4%  4%\n",
            "\u001b[1;36m[libx264 @ 0x5c1fcadd0580] \u001b[0mi8c dc,h,v,p: 56% 19% 22%  3%\n",
            "\u001b[1;36m[libx264 @ 0x5c1fcadd0580] \u001b[0mWeighted P-Frames: Y:0.3% UV:0.0%\n",
            "\u001b[1;36m[libx264 @ 0x5c1fcadd0580] \u001b[0mref P L0: 71.4% 12.5% 11.4%  4.6%  0.0%\n",
            "\u001b[1;36m[libx264 @ 0x5c1fcadd0580] \u001b[0mref B L0: 86.3% 10.5%  3.2%\n",
            "\u001b[1;36m[libx264 @ 0x5c1fcadd0580] \u001b[0mref B L1: 96.5%  3.5%\n",
            "\u001b[1;36m[libx264 @ 0x5c1fcadd0580] \u001b[0mkb/s:333.46\n",
            "\u001b[1;36m[aac @ 0x5c1fcadc4d40] \u001b[0mQavg: 158.364\n"
          ]
        }
      ],
      "source": [
        "!cd Wav2Lip && python inference.py --checkpoint_path checkpoints/wav2lip_gan.pth --face \"/content/sample_data/INPUT_VIDEO.mp4\" --audio \"/content/sample_data/INPUT_AUDIO.wav\" --resize_factor 2"
      ]
    },
    {
      "cell_type": "markdown",
      "source": [
        "# USING NO SMOOTH ARGUMENT\n",
        "- If you see the mouth position dislocated or some weird artifacts such as two mouths, then it can be because of over-smoothing the face detections. Use the --nosmooth argument and give it another try"
      ],
      "metadata": {
        "id": "DeImgh8TIaBp"
      }
    },
    {
      "cell_type": "code",
      "execution_count": null,
      "metadata": {
        "id": "2jM0HEvf2yeu"
      },
      "outputs": [],
      "source": [
        "!cd Wav2Lip && python inference.py --checkpoint_path checkpoints/wav2lip_gan.pth --face \"/content/sample_data/INPUT_VIDEO.mp4\" --audio \"/content/sample_data/INPUT_AUDIO.wav\" --no smooth"
      ]
    }
  ],
  "metadata": {
    "accelerator": "GPU",
    "colab": {
      "provenance": []
    },
    "kernelspec": {
      "display_name": "Python 3",
      "name": "python3"
    },
    "language_info": {
      "name": "python"
    }
  },
  "nbformat": 4,
  "nbformat_minor": 0
}